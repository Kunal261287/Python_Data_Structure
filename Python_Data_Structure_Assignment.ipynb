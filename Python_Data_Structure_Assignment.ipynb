{
 "cells": [
  {
   "cell_type": "markdown",
   "id": "296e3e29-c471-4479-b8c0-17f0a78026e1",
   "metadata": {},
   "source": [
    "1. What are data structures, and why are they important?\n",
    "   --> Data structures are specialized formats for organizing, storing, and accessing collections of data. They provide efficient ways to\n",
    "       manage information based on its characteristics and intended use. Think of them as containers that hold your data and determine how\n",
    "       you can interact with it. Different containers are better suited for different types of items.\n",
    "\n",
    "   Choosing the right data structure significantly impacts the efficiency and performance of your program.\n",
    "    Well-chosen data structures can:\n",
    "    Simplify data manipulation (adding, removing, modifying elements)\n",
    "    Optimize searching and sorting operations\n",
    "    Conserve memory usage"
   ]
  },
  {
   "cell_type": "markdown",
   "id": "3dd12043-272b-4022-961a-8ef1f2a3218e",
   "metadata": {},
   "source": [
    "2.  Explain the difference between mutable and immutable data types with examples.\n",
    "   --> Mutable data types can be changed in place after creation, meaning their contents (like elements or values) can be altered without changing\n",
    "        their identity. Examples: List, Set.\n",
    "        Immutable data types cannot be changed after they are created. Any modification creates a new object with a different identity.\n",
    "        Examples: int, tuple."
   ]
  },
  {
   "cell_type": "markdown",
   "id": "4d3eebfb-b116-4f1d-aa31-04fa7f16f04d",
   "metadata": {},
   "source": [
    "3. What are the main differences between lists and tuples in Python?\n",
    "   --> Both lists and tuples in Python are used to store collections of items, but they have some important differences.\n",
    "       lists- it can be changed & little bit slower than tuple.\n",
    "       tuple- it can not be changed & faster than lists as the data in tuple is constant."
   ]
  },
  {
   "cell_type": "markdown",
   "id": "658c29f2-cb0a-44a9-823e-ff5a910b94f7",
   "metadata": {},
   "source": [
    "4.  Describe how dictionaries store data.\n",
    "   --> A dictionary is a built-in data type that stores key-value pairs. It's like a real-world dictionary where you look up a word (key) and get its meaning (value). Below is the example where \"Brand\" is the key & \"Maruti\" is assigned as the value of \"Brand\". This key & value are been stored in \"Car\"."
   ]
  },
  {
   "cell_type": "code",
   "execution_count": 16,
   "id": "6e9eaffb-e773-4728-ac50-8c21f5f4d417",
   "metadata": {},
   "outputs": [
    {
     "name": "stdout",
     "output_type": "stream",
     "text": [
      "Maruti\n",
      "2025\n"
     ]
    }
   ],
   "source": [
    "Car = {\"Brand\": \"Maruti\", \"Year\": \"2025\"}\n",
    "print(Car[\"Brand\"])\n",
    "print(Car[\"Year\"])"
   ]
  },
  {
   "cell_type": "markdown",
   "id": "ea108602-d6a3-4fdb-af4d-786258f0e597",
   "metadata": {},
   "source": [
    "5. Why might you use a set instead of a list in Python?\n",
    "   --> Set will not allow any duplicates to get unique values, it has faster look up then list, Sets support mathematical operations."
   ]
  },
  {
   "cell_type": "code",
   "execution_count": 13,
   "id": "1928c95a-35fd-48fe-b62a-8b9ccc74cdd8",
   "metadata": {},
   "outputs": [
    {
     "name": "stdout",
     "output_type": "stream",
     "text": [
      "{1, 2, 3, 4}\n",
      "{2, 3}\n",
      "{1}\n"
     ]
    }
   ],
   "source": [
    "a = {1, 2, 3}\n",
    "b = {2, 3, 4}\n",
    "print(a|b)\n",
    "print(a&b)\n",
    "print(a-b)"
   ]
  },
  {
   "cell_type": "markdown",
   "id": "595afab9-0621-4af4-9f2d-4567771b574f",
   "metadata": {},
   "source": [
    "6. What is a string in Python, and how is it different from a list?\n",
    "   --> string: Characters arranged in an unchangeable order. Consider writing a sentence, a paragraph, or a piece of material.\n",
    "       String (\"hello\")           \t List (['h', 'e', 'l', 'l', 'o'])\n",
    "        Characters\t\t\t\t\tAny objects (strings, numbers, etc.)\n",
    "        immutable \t\t\t\t\t(mutable)\n",
    "        str\t\t\t\t\t\t\tlist\n",
    "       "
   ]
  },
  {
   "cell_type": "markdown",
   "id": "381ab036-563f-445c-88da-98e98c8ebab1",
   "metadata": {},
   "source": [
    "7.  How do tuples ensure data integrity in Python?\n",
    "   --> Tuples are your go-to for safe, consistent, and unchangeable data — especially useful in APIs, configuration data, and anywhere you want to lock in a value once it's set. As it is immutable, it can not be changed and ensure data integrity."
   ]
  },
  {
   "cell_type": "markdown",
   "id": "857f1c73-396d-4394-bb1c-0b56fb0273d2",
   "metadata": {},
   "source": [
    "8. What is a hash table, and how does it relate to dictionaries in Python?\n",
    "   --> A hash table is a data structure that maps keys to values using a process called hashing.\n",
    "       Python's dict is a built-in implementation of a hash table, with some extra optimizations.\n",
    "       It calculates an index using the hash and places the key-value pair in that bucket."
   ]
  },
  {
   "cell_type": "markdown",
   "id": "a8fbd8a1-89cb-44e8-a282-8b155d5480ef",
   "metadata": {},
   "source": [
    "9. Can lists contain different data types in Python?\n",
    "    --> Yes, lists in Python can contain elements of different data types — that's one of the great flexibilities of Python as a dynamically-typed language."
   ]
  },
  {
   "cell_type": "markdown",
   "id": "268b6a23-d91a-43dc-974a-70738a09c658",
   "metadata": {},
   "source": [
    "10.  Explain why strings are immutable in Python.\n",
    "    --> Strings are hashable, which means they can be used as keys in dictionaries and elements in sets.\n",
    "        To do this efficiently, Python caches the hash of a string.\n",
    "        If strings were mutable, their hash would change when the content changes — which would break the dictionary or set."
   ]
  },
  {
   "cell_type": "markdown",
   "id": "4bdf759e-4d12-43f0-add9-461ea0c0813e",
   "metadata": {},
   "source": [
    "11. What advantages do dictionaries offer over lists for certain tasks?\n",
    "    --> Both dictionaries and lists are core data structures in Python, but they shine in very different situations.\n",
    "        Dictionaries use a hash table under the hood, so looking up a value by its key is on average O(1) time.\n",
    "        Lists, by contrast, require a linear search — O(n) time — to find an item unless you know the index.\n",
    "        In a list, you must remember the order of items or hard-code the indexes.\n",
    "        In a dictionary, you access data by meaningful keys.\n",
    "        Dictionary keys must be unique, which is enforced by Python.\n",
    "        Lists can have duplicates, which can lead to confusion or data integrity issues.\n",
    "        "
   ]
  },
  {
   "cell_type": "markdown",
   "id": "0e506cc6-0699-4439-aaaa-2403a7d90883",
   "metadata": {},
   "source": [
    "12. Describe a scenario where using a tuple would be preferable over a list.\n",
    "    --> There may be some occasions when you don’t want your data to be changed. If you have data that’s not meant to be changed in the first\n",
    "        place, such as critical information or records — you should choose tuple data type over lists.\n",
    "        Below example: Where days should not be changed. Due to mutability, list is allowing to change the day value. "
   ]
  },
  {
   "cell_type": "code",
   "execution_count": 37,
   "id": "ddebe0ff-fb92-47ae-97f7-90a63a7270af",
   "metadata": {},
   "outputs": [
    {
     "name": "stdout",
     "output_type": "stream",
     "text": [
      "['Saturday', 'Tuesday', 'Wednesday']\n"
     ]
    }
   ],
   "source": [
    "Day = [\"Monday\", \"Tuesday\", \"Wednesday\"]\n",
    "Day[0] = \"Saturday\"\n",
    "print(Day)"
   ]
  },
  {
   "cell_type": "code",
   "execution_count": 44,
   "id": "719dd370-052a-447e-87e5-d1f474b8ed07",
   "metadata": {},
   "outputs": [
    {
     "ename": "TypeError",
     "evalue": "'tuple' object is not callable",
     "output_type": "error",
     "traceback": [
      "\u001b[31m---------------------------------------------------------------------------\u001b[39m",
      "\u001b[31mTypeError\u001b[39m                                 Traceback (most recent call last)",
      "\u001b[36mCell\u001b[39m\u001b[36m \u001b[39m\u001b[32mIn[44]\u001b[39m\u001b[32m, line 2\u001b[39m\n\u001b[32m      1\u001b[39m Day = (\u001b[33m\"\u001b[39m\u001b[33mMonday\u001b[39m\u001b[33m\"\u001b[39m, \u001b[33m\"\u001b[39m\u001b[33mTuesday\u001b[39m\u001b[33m\"\u001b[39m, \u001b[33m\"\u001b[39m\u001b[33mWednesday\u001b[39m\u001b[33m\"\u001b[39m)\n\u001b[32m----> \u001b[39m\u001b[32m2\u001b[39m \u001b[43mDay\u001b[49m\u001b[43m(\u001b[49m\u001b[32;43m0\u001b[39;49m\u001b[43m)\u001b[49m == \u001b[33m\"\u001b[39m\u001b[33mSaturday\u001b[39m\u001b[33m\"\u001b[39m\n\u001b[32m      3\u001b[39m \u001b[38;5;28mprint\u001b[39m(Day)\n",
      "\u001b[31mTypeError\u001b[39m: 'tuple' object is not callable"
     ]
    }
   ],
   "source": [
    "Day = (\"Monday\", \"Tuesday\", \"Wednesday\")\n",
    "Day(0) == \"Saturday\"\n",
    "print(Day)"
   ]
  },
  {
   "cell_type": "markdown",
   "id": "4b65cc39-c63b-4251-a1bc-4b0f7fb653af",
   "metadata": {},
   "source": [
    "13. How do sets handle duplicate values in Python?\n",
    "    --> Sets automatically eliminate duplicates.    "
   ]
  },
  {
   "cell_type": "code",
   "execution_count": 38,
   "id": "852103c3-8396-49ce-bc1e-235ed9bd7928",
   "metadata": {},
   "outputs": [
    {
     "name": "stdout",
     "output_type": "stream",
     "text": [
      "{1, 2, 3, 4}\n"
     ]
    }
   ],
   "source": [
    "my_set = {1, 2, 2, 3, 4, 4, 4}\n",
    "print(my_set)"
   ]
  },
  {
   "cell_type": "markdown",
   "id": "6b44b1b3-3d5b-4dcd-a2ce-694ff9175df4",
   "metadata": {},
   "source": [
    "14. How does the “in” keyword work differently for lists and dictionaries?\n",
    "    --> The \"in\" keyword is used in both lists and dictionaries in Python, but it works differently depending on the data structure.\n",
    "        Let’s break it down."
   ]
  },
  {
   "cell_type": "code",
   "execution_count": 39,
   "id": "f26f37b9-ee20-47af-b577-31341db1015e",
   "metadata": {},
   "outputs": [
    {
     "name": "stdout",
     "output_type": "stream",
     "text": [
      "True\n",
      "False\n"
     ]
    }
   ],
   "source": [
    "#When you use in with a list, it checks if a value exists in the list.\n",
    "my_list = [10, 20, 30, 40]\n",
    "\n",
    "print(20 in my_list)\n",
    "print(50 in my_list)"
   ]
  },
  {
   "cell_type": "code",
   "execution_count": 40,
   "id": "03d0bf28-7e71-4bd5-9568-3092e3baf4c3",
   "metadata": {},
   "outputs": [
    {
     "name": "stdout",
     "output_type": "stream",
     "text": [
      "True\n",
      "False\n"
     ]
    }
   ],
   "source": [
    "#When you use in with a dictionary, it checks if a key exists — not the values.\n",
    "my_dict = {\"name\": \"Alice\", \"age\": 30}\n",
    "\n",
    "print(\"name\" in my_dict)\n",
    "print(\"Alice\" in my_dict)"
   ]
  },
  {
   "cell_type": "markdown",
   "id": "cf4da93a-0d3c-4efe-a298-491b48c6307d",
   "metadata": {},
   "source": [
    "15. Can you modify the elements of a tuple? Explain why or why not.\n",
    "    --> A tuple is an immutable data type in Python, meaning: Once a tuple is created, its size and contents cannot be changed."
   ]
  },
  {
   "cell_type": "code",
   "execution_count": 42,
   "id": "b7a46dd2-c5dc-4d1b-b8e6-0e6354dd8e6b",
   "metadata": {},
   "outputs": [
    {
     "ename": "TypeError",
     "evalue": "'tuple' object does not support item assignment",
     "output_type": "error",
     "traceback": [
      "\u001b[31m---------------------------------------------------------------------------\u001b[39m",
      "\u001b[31mTypeError\u001b[39m                                 Traceback (most recent call last)",
      "\u001b[36mCell\u001b[39m\u001b[36m \u001b[39m\u001b[32mIn[42]\u001b[39m\u001b[32m, line 3\u001b[39m\n\u001b[32m      1\u001b[39m \u001b[38;5;66;03m#Tuple:\u001b[39;00m\n\u001b[32m      2\u001b[39m my_tuple = (\u001b[32m10\u001b[39m, \u001b[32m20\u001b[39m, \u001b[32m30\u001b[39m)\n\u001b[32m----> \u001b[39m\u001b[32m3\u001b[39m \u001b[43mmy_tuple\u001b[49m\u001b[43m[\u001b[49m\u001b[32;43m1\u001b[39;49m\u001b[43m]\u001b[49m = \u001b[32m99\u001b[39m\n",
      "\u001b[31mTypeError\u001b[39m: 'tuple' object does not support item assignment"
     ]
    }
   ],
   "source": [
    "#Tuple:\n",
    "my_tuple = (10, 20, 30)\n",
    "my_tuple[1] = 99"
   ]
  },
  {
   "cell_type": "markdown",
   "id": "97439103-f0bc-4d5b-8c8b-56bdb627e1a6",
   "metadata": {},
   "source": [
    "16. What is a nested dictionary, and give an example of its use case.\n",
    "    --> A nested dictionary is a dictionary inside another dictionary.\n",
    "        It's like a dictionary of dictionaries — useful for storing structured, hierarchical data."
   ]
  },
  {
   "cell_type": "code",
   "execution_count": 45,
   "id": "2325b0d3-13e8-4010-aa5f-ad128c576dcb",
   "metadata": {},
   "outputs": [
    {
     "name": "stdout",
     "output_type": "stream",
     "text": [
      "Computer Science\n",
      "75\n"
     ]
    }
   ],
   "source": [
    "students = {\n",
    "    \"Alice\": {\n",
    "        \"age\": 20,\n",
    "        \"major\": \"Computer Science\",\n",
    "        \"grades\": {\"Math\": 90, \"English\": 85}\n",
    "    },\n",
    "    \"Bob\": {\n",
    "        \"age\": 22,\n",
    "        \"major\": \"Engineering\",\n",
    "        \"grades\": {\"Math\": 75, \"English\": 80}\n",
    "    }\n",
    "}\n",
    "print(students[\"Alice\"][\"major\"])\n",
    "print(students[\"Bob\"][\"grades\"][\"Math\"])"
   ]
  },
  {
   "cell_type": "markdown",
   "id": "a466e6c4-ccba-4baf-85d7-07d6dd94b509",
   "metadata": {},
   "source": [
    "17. Describe the time complexity of accessing elements in a dictionary.\n",
    "    --> The time complexity of accessing an element in a dictionary (also known as a hash table or associative array) is typically O(1), meaning\n",
    "        it takes constant time regardless of the dictionary's size. This is because dictionaries use hashing to map keys to their corresponding\n",
    "        values, allowing for direct access to the desired value in a single step. "
   ]
  },
  {
   "cell_type": "markdown",
   "id": "b938b9ce-b51e-4e29-8bee-a42da8b9ade3",
   "metadata": {},
   "source": [
    "18. In what situations are lists preferred over dictionaries?\n",
    "    --> For quick data look-ups, configurations, or caches, favor dictionaries. For ordered collections and sequence operations, such as\n",
    "        maintaining a stack or queue, lists are more suitable."
   ]
  },
  {
   "cell_type": "markdown",
   "id": "e9666642-2417-4085-92ee-4e50b6bd47fb",
   "metadata": {},
   "source": [
    "19. Why are dictionaries considered unordered, and how does that affect data retrieval?\n",
    "    --> A dictionary is termed an unordered collection of objects because dictionaries do not maintain any inherent order of the items based on\n",
    "        when they were added. In older versions of Python (before 3.7), dictionaries did not preserve insertion order at all\n",
    "        Even though dictionaries are ordered in Python 3.7+, the primary way you retrieve data from a dictionary has not changed:\n",
    "        Fast retrieval: When you access a dictionary by key, it is still an O(1) operation (constant time).\n",
    "        Iteration order: When you iterate over the dictionary (using loops like for), the order of the items will follow the order they were\n",
    "        inserted in Python 3.7 and beyond."
   ]
  },
  {
   "cell_type": "markdown",
   "id": "39776464-ce60-4d62-8ab4-816e2e85c6f1",
   "metadata": {},
   "source": [
    "20.  Explain the difference between a list and a dictionary in terms of data retrieval.\n",
    "    --> 1. Data Retrieval in a List:\n",
    "            A list is an ordered collection of elements, indexed by their position (integer index) in the list. When you retrieve data from a list,\n",
    "             you use the index of the element you want to access.\n",
    "\n",
    "             Key Characteristics of List Retrieval:\n",
    "           Index-based Access: You use the index to retrieve an element. Lists are zero-indexed (i.e., the first element is at index 0).\n",
    "             Order-preserving: The order of elements in a list is guaranteed. The element's position in the list stays the same unless you modify\n",
    "           the list (e.g., through sorting or removal).\n",
    "    Time Complexity:\n",
    "           Access by Index: O(1) (constant time) — Directly access the element by its position in the list.\n",
    "\n",
    "     2. Data Retrieval in a Dictionary:\n",
    "        A dictionary is an unordered collection of key-value pairs. When retrieving data from a dictionary, you access it by using a key\n",
    "        instead of an index.\n",
    "        Key Characteristics of Dictionary Retrieval:\n",
    "        Key-based Access: You retrieve data by specifying the key, not the index.\n",
    "        No Indexing: Dictionaries are not indexed by position. The key could be anything that is hashable (strings, numbers, tuples).\n",
    "        Order (Python 3.7+): Dictionaries maintain the order in which items were inserted, but retrieval is still based on the key, not position.\n",
    "    Time Complexity:\n",
    "        Access by Key: O(1) (constant time) — Direct access to a value based on its key, thanks to hashing."
   ]
  },
  {
   "cell_type": "code",
   "execution_count": 46,
   "id": "9988a3ae-25c9-4ba7-8e84-617cb4a013f6",
   "metadata": {},
   "outputs": [
    {
     "name": "stdout",
     "output_type": "stream",
     "text": [
      "My name is: Kunal\n"
     ]
    }
   ],
   "source": [
    "#Practical Questions:\n",
    "#1. Write a code to create a string with your name and print it.\n",
    "\n",
    "my_name = \"Kunal\"\n",
    "print(\"My name is:\", my_name)"
   ]
  },
  {
   "cell_type": "code",
   "execution_count": 47,
   "id": "d1fbb02f-568d-4c96-8fa1-f4422b32a4e6",
   "metadata": {},
   "outputs": [
    {
     "name": "stdout",
     "output_type": "stream",
     "text": [
      "Length of the string: 11\n"
     ]
    }
   ],
   "source": [
    "#2. Write a code to find the length of the string \"Hello World\".\n",
    "text = \"Hello World\"\n",
    "length = len(text)\n",
    "print(\"Length of the string:\", length)\n"
   ]
  },
  {
   "cell_type": "code",
   "execution_count": 48,
   "id": "5f43badc-ee70-430f-938e-0865d33a8d2e",
   "metadata": {},
   "outputs": [
    {
     "name": "stdout",
     "output_type": "stream",
     "text": [
      "First 3 characters: Pyt\n"
     ]
    }
   ],
   "source": [
    "#3. Write a code to slice the first 3 characters from the string \"Python Programming\".\n",
    "\n",
    "text = \"Python Programming\"\n",
    "sliced = text[:3]\n",
    "print(\"First 3 characters:\", sliced)"
   ]
  },
  {
   "cell_type": "code",
   "execution_count": 49,
   "id": "8acc2d03-7c4f-496f-8545-904eda37b0ee",
   "metadata": {},
   "outputs": [
    {
     "name": "stdout",
     "output_type": "stream",
     "text": [
      "Uppercase: HELLO\n"
     ]
    }
   ],
   "source": [
    "#4. Write a code to convert the string \"hello\" to uppercase.\n",
    "text = \"hello\"\n",
    "uppercase_text = text.upper()\n",
    "print(\"Uppercase:\", uppercase_text)"
   ]
  },
  {
   "cell_type": "code",
   "execution_count": 50,
   "id": "c81b3926-566c-4271-a115-0fab46630363",
   "metadata": {},
   "outputs": [
    {
     "name": "stdout",
     "output_type": "stream",
     "text": [
      "Updated string: I like orange\n"
     ]
    }
   ],
   "source": [
    "#5. Write a code to replace the word \"apple\" with \"orange\" in the string \"I like apple\".\n",
    "\n",
    "text = \"I like apple\"\n",
    "new_text = text.replace(\"apple\", \"orange\")\n",
    "print(\"Updated string:\", new_text)"
   ]
  },
  {
   "cell_type": "code",
   "execution_count": 53,
   "id": "1d95a0a7-d0fa-4aec-99ae-6139ffe0395e",
   "metadata": {},
   "outputs": [
    {
     "name": "stdout",
     "output_type": "stream",
     "text": [
      "List of numbers: [1, 2, 3, 4, 5]\n"
     ]
    }
   ],
   "source": [
    "#6. Write a code to create a list with numbers 1 to 5 and print it.\n",
    "numbers = list(range(1, 6))\n",
    "print(\"List of numbers:\", numbers)"
   ]
  },
  {
   "cell_type": "code",
   "execution_count": 61,
   "id": "d0b0d9de-fae4-417f-8db7-5c0b692b3934",
   "metadata": {},
   "outputs": [
    {
     "name": "stdout",
     "output_type": "stream",
     "text": [
      "[1, 2, 3, 4, 10]\n"
     ]
    }
   ],
   "source": [
    "#7. Write a code to append the number 10 to the list [1, 2, 3, 4].\n",
    "A = [1, 2, 3, 4]\n",
    "A.append(10)\n",
    "print(A)"
   ]
  },
  {
   "cell_type": "code",
   "execution_count": 62,
   "id": "f014a8eb-7341-4b8c-af9d-da5fdf19b41e",
   "metadata": {},
   "outputs": [
    {
     "name": "stdout",
     "output_type": "stream",
     "text": [
      "[1, 2, 4, 5]\n"
     ]
    }
   ],
   "source": [
    "#8. Write a code to remove the number 3 from the list [1, 2, 3, 4, 5].\n",
    "A = [1, 2, 3, 4, 5]\n",
    "A.remove(3)\n",
    "print(A)"
   ]
  },
  {
   "cell_type": "code",
   "execution_count": 68,
   "id": "c2293766-4c44-4779-b23b-d446f7c1322b",
   "metadata": {},
   "outputs": [
    {
     "name": "stdout",
     "output_type": "stream",
     "text": [
      "b\n"
     ]
    }
   ],
   "source": [
    "#9. Write a code to access the second element in the list ['a', 'b', 'c', 'd'].\n",
    "My_List = ['a', 'b', 'c', 'd']\n",
    "New_List = My_List[1]\n",
    "print(New_List)"
   ]
  },
  {
   "cell_type": "code",
   "execution_count": 69,
   "id": "9700ef3c-af08-40cf-abc4-2de26cbd5d85",
   "metadata": {},
   "outputs": [
    {
     "name": "stdout",
     "output_type": "stream",
     "text": [
      "Reversed list: [50, 40, 30, 20, 10]\n"
     ]
    }
   ],
   "source": [
    "#10. Write a code to reverse the list [10, 20, 30, 40, 50].\n",
    "\n",
    "numbers = [10, 20, 30, 40, 50]\n",
    "\n",
    "numbers.reverse()\n",
    "\n",
    "print(\"Reversed list:\", numbers)"
   ]
  },
  {
   "cell_type": "code",
   "execution_count": 72,
   "id": "3985f3f7-2fda-4792-972e-77a0a9dcc1f7",
   "metadata": {},
   "outputs": [
    {
     "name": "stdout",
     "output_type": "stream",
     "text": [
      "<class 'tuple'>\n",
      "(100, 200, 300)\n"
     ]
    }
   ],
   "source": [
    "#11. Write a code to create a tuple with the elements 100, 200, 300 and print it.\n",
    "My_Tuple = (100, 200, 300)\n",
    "print(type(My_Tuple))\n",
    "print(My_Tuple)"
   ]
  },
  {
   "cell_type": "code",
   "execution_count": 75,
   "id": "6c5a5c75-4d5a-4490-bf81-e715a6d39e39",
   "metadata": {},
   "outputs": [
    {
     "name": "stdout",
     "output_type": "stream",
     "text": [
      "<class 'tuple'>\n",
      "blue\n"
     ]
    }
   ],
   "source": [
    "#12. Write a code to access the second-to-last element of the tuple ('red', 'green', 'blue', 'yellow').\n",
    "RGB = ('red', 'green', 'blue', 'yellow')\n",
    "print(type(RGB)) #To show It is Tuple.\n",
    "A = RGB[-2]\n",
    "print(A)"
   ]
  },
  {
   "cell_type": "code",
   "execution_count": 76,
   "id": "550e8004-2813-44be-b31a-306c5b5fd6ed",
   "metadata": {},
   "outputs": [
    {
     "name": "stdout",
     "output_type": "stream",
     "text": [
      "5\n"
     ]
    }
   ],
   "source": [
    "#13. Write a code to find the minimum number in the tuple (10, 20, 5, 15).\n",
    "A = (10, 20, 5, 15)\n",
    "print(min(A))"
   ]
  },
  {
   "cell_type": "code",
   "execution_count": 81,
   "id": "a71bf5b6-ccf3-4778-81a3-31d59129f8d3",
   "metadata": {},
   "outputs": [
    {
     "name": "stdout",
     "output_type": "stream",
     "text": [
      "1\n"
     ]
    }
   ],
   "source": [
    "#14. Write a code to find the index of the element \"cat\" in the tuple ('dog', 'cat', 'rabbit').\n",
    "A = ('dog', 'cat', 'rabbit')\n",
    "B = A.index('cat')\n",
    "print(B)"
   ]
  },
  {
   "cell_type": "code",
   "execution_count": 83,
   "id": "76c7557d-a83e-4f6a-82ac-96045d5a9d0b",
   "metadata": {},
   "outputs": [
    {
     "name": "stdout",
     "output_type": "stream",
     "text": [
      "Kiwi is in the tuple.\n",
      "Kiwi is not in the tuple.\n"
     ]
    }
   ],
   "source": [
    "#15. Write a code to create a tuple containing three different fruits and check if \"kiwi\" is in it.\n",
    "\n",
    "A = (\"orange\", \"apple\", \"kiwi\")\n",
    "B = ('apple', 'banana', 'orange')\n",
    "\n",
    "if 'kiwi' in A:\n",
    "    print(\"Kiwi is in the tuple.\")\n",
    "else:\n",
    "    print(\"Kiwi is not in the tuple.\")\n",
    "\n",
    "if 'kiwi' in B:\n",
    "    print(\"Kiwi is in the tuple.\")\n",
    "else:\n",
    "    print(\"Kiwi is not in the tuple.\")\n"
   ]
  },
  {
   "cell_type": "code",
   "execution_count": 88,
   "id": "4b1f2eb7-7385-4acc-924e-ae330e7d9d9e",
   "metadata": {},
   "outputs": [
    {
     "name": "stdout",
     "output_type": "stream",
     "text": [
      "{'c', 'b', 'a', 'd'}\n"
     ]
    }
   ],
   "source": [
    "#16. Write a code to create a set with the elements 'a', 'b', 'c' and print it.\n",
    "\n",
    "A = {'a', 'b', 'c', 'd'}\n",
    "print(A)"
   ]
  },
  {
   "cell_type": "code",
   "execution_count": 90,
   "id": "4796a8f4-80cf-4c73-9ab7-99b0f0757c8d",
   "metadata": {},
   "outputs": [
    {
     "name": "stdout",
     "output_type": "stream",
     "text": [
      "set()\n"
     ]
    }
   ],
   "source": [
    "#17. Write a code to clear all elements from the set {1, 2, 3, 4, 5}.\n",
    "\n",
    "A = {1, 2, 3, 4, 5}\n",
    "A.clear()\n",
    "print(A)"
   ]
  },
  {
   "cell_type": "code",
   "execution_count": 94,
   "id": "751350cc-3cc7-4b4e-9bff-d51f697064cb",
   "metadata": {},
   "outputs": [
    {
     "name": "stdout",
     "output_type": "stream",
     "text": [
      "{1, 2, 3}\n"
     ]
    }
   ],
   "source": [
    "#18. Write a code to remove the element 4 from the set {1, 2, 3, 4}.\n",
    "\n",
    "A = {1, 2, 3, 4}\n",
    "A.remove(4)\n",
    "print(A)"
   ]
  },
  {
   "cell_type": "code",
   "execution_count": 97,
   "id": "963bcbc9-9e9e-47d9-850e-011ef20c5aea",
   "metadata": {},
   "outputs": [
    {
     "name": "stdout",
     "output_type": "stream",
     "text": [
      "{1, 2, 3, 4, 5}\n"
     ]
    }
   ],
   "source": [
    "#19. Write a code to find the union of two sets {1, 2, 3} and {3, 4, 5}.\n",
    "\n",
    "A = {1, 2, 3}\n",
    "B = {3, 4, 5}\n",
    "print(A | B)"
   ]
  },
  {
   "cell_type": "code",
   "execution_count": 99,
   "id": "6afc0f92-39dd-4df4-aec9-2b55da6349d1",
   "metadata": {},
   "outputs": [
    {
     "name": "stdout",
     "output_type": "stream",
     "text": [
      "{2, 3}\n"
     ]
    }
   ],
   "source": [
    "#20. Write a code to find the intersection of two sets {1, 2, 3} and {2, 3, 4}.\n",
    "\n",
    "A = {1, 2, 3}\n",
    "B = {2, 3, 4}\n",
    "print(A&B)"
   ]
  },
  {
   "cell_type": "code",
   "execution_count": 100,
   "id": "5294d027-ddcc-4de9-8cb3-bd2badbd13eb",
   "metadata": {},
   "outputs": [
    {
     "name": "stdout",
     "output_type": "stream",
     "text": [
      "My dictionary: {'name': 'Kunal', 'age': 37, 'city': 'Kolkata'}\n"
     ]
    }
   ],
   "source": [
    "#21. Write a code to create a dictionary with the keys \"name\", \"age\", and \"city\", and print it.\n",
    "\n",
    "my_dict = {\n",
    "    \"name\": \"Kunal\",\n",
    "    \"age\": 37,\n",
    "    \"city\": \"Kolkata\"\n",
    "}\n",
    "\n",
    "print(\"My dictionary:\", my_dict)"
   ]
  },
  {
   "cell_type": "code",
   "execution_count": 101,
   "id": "78ba06cf-8227-49bd-a211-96582c49cc66",
   "metadata": {},
   "outputs": [
    {
     "name": "stdout",
     "output_type": "stream",
     "text": [
      "Updated dictionary: {'name': 'John', 'age': 25, 'country': 'USA'}\n"
     ]
    }
   ],
   "source": [
    "#22. Write a code to add a new key-value pair \"country\": \"USA\" to the dictionary {'name': 'John', 'age': 25}.\n",
    "# Original dictionary\n",
    "person = {'name': 'John', 'age': 25}\n",
    "\n",
    "# Add a new key-value pair\n",
    "person['country'] = 'USA'\n",
    "\n",
    "# Print the updated dictionary\n",
    "print(\"Updated dictionary:\", person)"
   ]
  },
  {
   "cell_type": "code",
   "execution_count": 102,
   "id": "10808308-feb1-4b8a-9e28-f241abeada30",
   "metadata": {},
   "outputs": [
    {
     "name": "stdout",
     "output_type": "stream",
     "text": [
      "Name: Alice\n"
     ]
    }
   ],
   "source": [
    "#23. Write a code to access the value associated with the key \"name\" in the dictionary {'name': 'Alice', 'age': 30}.\n",
    "# Define the dictionary\n",
    "person = {'name': 'Alice', 'age': 30}\n",
    "\n",
    "# Access the value associated with the key 'name'\n",
    "name_value = person['name']\n",
    "\n",
    "# Print the value\n",
    "print(\"Name:\", name_value)"
   ]
  },
  {
   "cell_type": "code",
   "execution_count": 103,
   "id": "212ad6cf-c1d0-4dd5-aa51-36ed3f8d38f9",
   "metadata": {},
   "outputs": [
    {
     "name": "stdout",
     "output_type": "stream",
     "text": [
      "Updated dictionary: {'name': 'Bob', 'city': 'New York'}\n"
     ]
    }
   ],
   "source": [
    "#24. Write a code to remove the key \"age\" from the dictionary {'name': 'Bob', 'age': 22, 'city': 'New York'}.\n",
    "# Original dictionary\n",
    "person = {'name': 'Bob', 'age': 22, 'city': 'New York'}\n",
    "\n",
    "# Remove the key 'age'\n",
    "person.pop('age')\n",
    "\n",
    "# Print the updated dictionary\n",
    "print(\"Updated dictionary:\", person)"
   ]
  },
  {
   "cell_type": "code",
   "execution_count": 104,
   "id": "cbf57e58-098b-4cc0-8db6-d9eed7de97df",
   "metadata": {},
   "outputs": [
    {
     "name": "stdout",
     "output_type": "stream",
     "text": [
      "The key 'city' exists in the dictionary.\n"
     ]
    }
   ],
   "source": [
    "#25. Write a code to check if the key \"city\" exists in the dictionary {'name': 'Alice', 'city': 'Paris'}.\n",
    "# Define the dictionary\n",
    "person = {'name': 'Alice', 'city': 'Paris'}\n",
    "\n",
    "# Check if the key 'city' exists\n",
    "if 'city' in person:\n",
    "    print(\"The key 'city' exists in the dictionary.\")\n",
    "else:\n",
    "    print(\"The key 'city' does not exist in the dictionary.\")"
   ]
  },
  {
   "cell_type": "code",
   "execution_count": 105,
   "id": "eedc4bbc-7a0b-4969-b63a-3258ad267856",
   "metadata": {},
   "outputs": [
    {
     "name": "stdout",
     "output_type": "stream",
     "text": [
      "List: [1, 2, 3, 4, 5]\n",
      "Tuple: ('apple', 'banana', 'cherry')\n",
      "Dictionary: {'name': 'John', 'age': 28, 'city': 'London'}\n"
     ]
    }
   ],
   "source": [
    "#26. Write a code to create a list, a tuple, and a dictionary, and print them all.\n",
    "# Create a list\n",
    "my_list = [1, 2, 3, 4, 5]\n",
    "\n",
    "# Create a tuple\n",
    "my_tuple = ('apple', 'banana', 'cherry')\n",
    "\n",
    "# Create a dictionary\n",
    "my_dict = {'name': 'John', 'age': 28, 'city': 'London'}\n",
    "\n",
    "# Print all three\n",
    "print(\"List:\", my_list)\n",
    "print(\"Tuple:\", my_tuple)\n",
    "print(\"Dictionary:\", my_dict)"
   ]
  },
  {
   "cell_type": "code",
   "execution_count": 108,
   "id": "e6d93105-3a17-4c26-b6a5-91cbc7db71e9",
   "metadata": {},
   "outputs": [
    {
     "name": "stdout",
     "output_type": "stream",
     "text": [
      "Sorted random numbers: [16, 23, 48, 76, 82]\n"
     ]
    }
   ],
   "source": [
    "#27. Write a code to create a list of 5 random numbers between 1 and 100, sort it in ascending order, and print the result.(replaced)\n",
    "import random\n",
    "\n",
    "# Create a list of 5 random numbers between 1 and 100\n",
    "random_numbers = [random.randint(1, 100) for _ in range(5)]\n",
    "\n",
    "# Sort the list in ascending order\n",
    "random_numbers.sort()\n",
    "\n",
    "# Print the sorted list\n",
    "print(\"Sorted random numbers:\", random_numbers)"
   ]
  },
  {
   "cell_type": "code",
   "execution_count": 109,
   "id": "7f9e26d0-55fe-483d-aeb5-0cc59c942ba5",
   "metadata": {},
   "outputs": [
    {
     "name": "stdout",
     "output_type": "stream",
     "text": [
      "Element at index 3: date\n"
     ]
    }
   ],
   "source": [
    "#28. Write a code to create a list with strings and print the element at the third index.\n",
    "# Create a list of strings\n",
    "string_list = [\"apple\", \"banana\", \"cherry\", \"date\", \"elderberry\"]\n",
    "\n",
    "# Print the element at the third index\n",
    "print(\"Element at index 3:\", string_list[3])"
   ]
  },
  {
   "cell_type": "code",
   "execution_count": 111,
   "id": "ab139734-aa16-4521-84ed-fa3606278aae",
   "metadata": {},
   "outputs": [
    {
     "name": "stdout",
     "output_type": "stream",
     "text": [
      "Combined dictionary: {'a': 1, 'b': 2, 'c': 3, 'd': 4}\n"
     ]
    }
   ],
   "source": [
    "#29. Write a code to combine two dictionaries into one and print the result.\n",
    "# Define two dictionaries\n",
    "dict1 = {'a': 1, 'b': 2}\n",
    "dict2 = {'c': 3, 'd': 4}\n",
    "\n",
    "# Combine the dictionaries using the update() method\n",
    "combined_dict = dict1 | dict2\n",
    "\n",
    "# Print the combined dictionary\n",
    "print(\"Combined dictionary:\", combined_dict)"
   ]
  },
  {
   "cell_type": "code",
   "execution_count": 113,
   "id": "b5726bd6-cc64-4b63-9f13-0140ee4be55a",
   "metadata": {},
   "outputs": [
    {
     "name": "stdout",
     "output_type": "stream",
     "text": [
      "Set of strings: {'apple', 'banana', 'cherry'}\n"
     ]
    }
   ],
   "source": [
    "#30. Write a code to convert a list of strings into a set.\n",
    "# Define a list of strings\n",
    "string_list = [\"apple\", \"banana\", \"cherry\", \"apple\", \"banana\"]\n",
    "\n",
    "# Convert the list to a set\n",
    "string_set = set(string_list)\n",
    "\n",
    "# Print the set\n",
    "print(\"Set of strings:\", string_set)"
   ]
  }
 ],
 "metadata": {
  "kernelspec": {
   "display_name": "Python 3 (ipykernel)",
   "language": "python",
   "name": "python3"
  },
  "language_info": {
   "codemirror_mode": {
    "name": "ipython",
    "version": 3
   },
   "file_extension": ".py",
   "mimetype": "text/x-python",
   "name": "python",
   "nbconvert_exporter": "python",
   "pygments_lexer": "ipython3",
   "version": "3.13.2"
  }
 },
 "nbformat": 4,
 "nbformat_minor": 5
}
